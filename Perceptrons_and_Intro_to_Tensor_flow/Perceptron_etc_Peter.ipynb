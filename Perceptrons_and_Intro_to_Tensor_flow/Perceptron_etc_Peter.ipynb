{
 "cells": [
  {
   "cell_type": "markdown",
   "metadata": {},
   "source": [
    "Perceptron, Activation function, Error function, and need for weights and bias"
   ]
  },
  {
   "cell_type": "markdown",
   "metadata": {},
   "source": [
    "# Perceptron"
   ]
  },
  {
   "cell_type": "markdown",
   "metadata": {},
   "source": [
    "Is a type of neuron or activation funciton for a binary machine learning layer.\n",
    "In particular the weighted input for a given layer is evaluated, for some given weights of the different inputs and a bias that acts as an activation cutoff, with a Heaviside step function i.e. if it is activated it returns a 1 otherwise a 0 (only binary classification)."
   ]
  },
  {
   "cell_type": "markdown",
   "metadata": {},
   "source": [
    "# Activation functions"
   ]
  },
  {
   "cell_type": "markdown",
   "metadata": {},
   "source": [
    "Activation functions as described above decide how the output of a neuron in the neural network given some weighted input with some additional bias, these can be logistic functions, linear one to one mappings of weighted input to output or different types of step function or step function approximation / mixtures or even localized activation layers like gaussian functions."
   ]
  },
  {
   "cell_type": "markdown",
   "metadata": {},
   "source": [
    "# Error function"
   ]
  },
  {
   "cell_type": "markdown",
   "metadata": {},
   "source": [
    "The error function is used to assess how good the network is able to analyze the data.\n",
    "Typically one evaluates the error function given some training data where labels are already available to assess how good the network is at labelling.\n",
    "The error function is also used to adjust the weights of the input in the different layers of the neural network, e.g. a higher error requires decreased weights for inputs that lead to high error and a higher weight for neurons that lead to a correct classification."
   ]
  },
  {
   "cell_type": "markdown",
   "metadata": {},
   "source": [
    "# Weights"
   ]
  },
  {
   "cell_type": "markdown",
   "metadata": {},
   "source": [
    "The input into the different layers or decision surfaces of a neural network are weighted according some weights.\n",
    "These weights are then adjusted to minimize a given error function in a forward backward iterative manner through all layers of the network."
   ]
  },
  {
   "cell_type": "markdown",
   "metadata": {},
   "source": [
    "# Bias"
   ]
  },
  {
   "cell_type": "markdown",
   "metadata": {},
   "source": [
    "The bias effectively acts as a threshold for the activation of a given neuron."
   ]
  }
 ],
 "metadata": {
  "kernelspec": {
   "display_name": "Python [conda env:nf2] *",
   "language": "python",
   "name": "conda-env-nf2-py"
  },
  "language_info": {
   "codemirror_mode": {
    "name": "ipython",
    "version": 3
   },
   "file_extension": ".py",
   "mimetype": "text/x-python",
   "name": "python",
   "nbconvert_exporter": "python",
   "pygments_lexer": "ipython3",
   "version": "3.6.6"
  }
 },
 "nbformat": 4,
 "nbformat_minor": 2
}
